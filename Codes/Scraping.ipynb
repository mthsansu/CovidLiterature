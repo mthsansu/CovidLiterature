{
 "cells": [
  {
   "cell_type": "code",
   "execution_count": 260,
   "id": "7ad690a0",
   "metadata": {},
   "outputs": [],
   "source": [
    "from selenium import webdriver\n",
    "from selenium.webdriver.common.keys import Keys\n",
    "from selenium.webdriver.support.ui import Select\n",
    "from selenium.webdriver.common.action_chains import ActionChains\n",
    "from selenium.webdriver.chrome.options import Options\n",
    "from selenium.common.exceptions import WebDriverException, JavascriptException, \\\n",
    "NoSuchElementException, TimeoutException\n",
    "from webdriver_manager.chrome import ChromeDriverManager\n",
    "#import getpass\n",
    "import pandas as pd\n",
    "import pickle\n",
    "import os\n",
    "from selenium.webdriver.support.ui import WebDriverWait\n",
    "from selenium.webdriver.support import expected_conditions as EC\n",
    "from selenium.webdriver.common.by import By\n",
    "#from time import sleep\n",
    "import re\n",
    "import time\n",
    "from tqdm import tqdm\n",
    "import winsound\n",
    "\n",
    "path = 'C:\\\\Users\\\\Dell\\\\Downloads'\n",
    "os.chdir(path)\n"
   ]
  },
  {
   "cell_type": "code",
   "execution_count": 261,
   "id": "cdb94ec2",
   "metadata": {},
   "outputs": [
    {
     "name": "stderr",
     "output_type": "stream",
     "text": [
      "\n",
      "\n",
      "====== WebDriver manager ======\n",
      "Current google-chrome version is 99.0.4844\n",
      "Get LATEST driver version for 99.0.4844\n",
      "Driver [C:\\Users\\Dell\\.wdm\\drivers\\chromedriver\\win32\\99.0.4844.51\\chromedriver.exe] found in cache\n"
     ]
    }
   ],
   "source": [
    "# Ouverture du driver et login a scopus\n",
    "\n",
    "driver = webdriver.Chrome(ChromeDriverManager().install())\n",
    "driver.get(\"https://www.scopus.com/search/form.uri?display=advanced\")\n",
    "driver.maximize_window()\n",
    "\n",
    "sleep_max = 2\n",
    "\n",
    "searched_elem = '/html/body/div[2]/div/div/div[3]/div/div[2]/button'\n",
    "WebDriverWait(driver, sleep_max).until(lambda driver: driver.find_elements_by_xpath(searched_elem))\n",
    "driver.find_element_by_xpath(searched_elem).click()\n",
    "driver.switch_to.window(driver.window_handles[1])\n",
    "searched_elem = '/html/body/div/section/main/div[2]/div[2]/div/form/div[1]/input'\n",
    "WebDriverWait(driver, sleep_max).until(lambda driver: driver.find_elements_by_xpath(searched_elem))\n",
    "driver.find_element_by_xpath(searched_elem).send_keys('ENSAE')\n",
    "searched_elem = '/html/body/div/section/main/div[2]/div[2]/div/form/div[2]/div/div/form[3]/button'\n",
    "WebDriverWait(driver, sleep_max).until(lambda driver: driver.find_elements_by_xpath(searched_elem))\n",
    "driver.find_element_by_xpath(searched_elem).click()\n",
    "searched_elem = '/html/body/div/section/main/form/div[4]/div[4]/button/div/div[3]'\n",
    "WebDriverWait(driver, sleep_max).until(lambda driver: driver.find_elements_by_xpath(searched_elem))\n",
    "driver.find_element_by_xpath(searched_elem).click()\n",
    "searched_elem = '/html/body/div/div[2]/form/table/tbody/tr[1]/td[3]/input'\n",
    "WebDriverWait(driver, sleep_max).until(lambda driver: driver.find_elements_by_xpath(searched_elem))\n",
    "driver.find_element_by_xpath(searched_elem).send_keys('mchabriel')\n",
    "searched_elem = '/html/body/div/div[2]/form/table/tbody/tr[2]/td[2]/input'\n",
    "WebDriverWait(driver, sleep_max).until(lambda driver: driver.find_elements_by_xpath(searched_elem))\n",
    "driver.find_element_by_xpath(searched_elem).send_keys('Elephant05091998')\n",
    "searched_elem = '/html/body/div/div[2]/form/table/tbody/tr[3]/td[3]/button'\n",
    "WebDriverWait(driver, sleep_max).until(lambda driver: driver.find_elements_by_xpath(searched_elem))\n",
    "driver.find_element_by_xpath(searched_elem).click()\n"
   ]
  },
  {
   "cell_type": "code",
   "execution_count": 262,
   "id": "09487c35",
   "metadata": {},
   "outputs": [],
   "source": [
    "path = 'C:\\\\Users\\\\Dell\\\\Downloads'\n",
    "liste_queries = pd.read_csv('base_req.csv')\n",
    "queries = liste_queries.req_tot\n",
    "\n",
    "problematic_queries = []\n",
    "done_queries = []\n"
   ]
  },
  {
   "cell_type": "code",
   "execution_count": 263,
   "id": "2f46a165",
   "metadata": {},
   "outputs": [
    {
     "name": "stderr",
     "output_type": "stream",
     "text": [
      "  1%|█                                                                                 | 2/160 [00:43<57:44, 21.93s/it]\n"
     ]
    },
    {
     "ename": "ElementClickInterceptedException",
     "evalue": "Message: element click intercepted: Element <span class=\"btnText\">...</span> is not clickable at point (1379, 600). Other element would receive the click: <td id=\"otherInfoCheckboxes\">...</td>\n  (Session info: chrome=99.0.4844.82)\n",
     "output_type": "error",
     "traceback": [
      "\u001b[1;31m---------------------------------------------------------------------------\u001b[0m",
      "\u001b[1;31mTimeoutException\u001b[0m                          Traceback (most recent call last)",
      "\u001b[1;32m<ipython-input-263-36c7efd73e9b>\u001b[0m in \u001b[0;36m<module>\u001b[1;34m\u001b[0m\n\u001b[0;32m     22\u001b[0m             \u001b[0msearched_elem\u001b[0m \u001b[1;33m=\u001b[0m \u001b[1;34m'/html/body/div/div/div[1]/div/div/div[3]/div/form/div[2]/div/header/h1'\u001b[0m\u001b[1;33m\u001b[0m\u001b[1;33m\u001b[0m\u001b[0m\n\u001b[1;32m---> 23\u001b[1;33m             \u001b[0mWebDriverWait\u001b[0m\u001b[1;33m(\u001b[0m\u001b[0mdriver\u001b[0m\u001b[1;33m,\u001b[0m \u001b[0msleep_max\u001b[0m\u001b[1;33m)\u001b[0m\u001b[1;33m.\u001b[0m\u001b[0muntil\u001b[0m\u001b[1;33m(\u001b[0m\u001b[1;32mlambda\u001b[0m \u001b[0mdriver\u001b[0m\u001b[1;33m:\u001b[0m \u001b[0mdriver\u001b[0m\u001b[1;33m.\u001b[0m\u001b[0mfind_elements_by_xpath\u001b[0m\u001b[1;33m(\u001b[0m\u001b[0msearched_elem\u001b[0m\u001b[1;33m)\u001b[0m\u001b[1;33m)\u001b[0m\u001b[1;33m\u001b[0m\u001b[1;33m\u001b[0m\u001b[0m\n\u001b[0m\u001b[0;32m     24\u001b[0m             \u001b[0mdriver\u001b[0m\u001b[1;33m.\u001b[0m\u001b[0mfind_element_by_xpath\u001b[0m\u001b[1;33m(\u001b[0m\u001b[0msearched_elem\u001b[0m\u001b[1;33m)\u001b[0m\u001b[1;33m.\u001b[0m\u001b[0mclick\u001b[0m\u001b[1;33m(\u001b[0m\u001b[1;33m)\u001b[0m\u001b[1;33m\u001b[0m\u001b[1;33m\u001b[0m\u001b[0m\n",
      "\u001b[1;32m~\\anaconda3\\lib\\site-packages\\selenium\\webdriver\\support\\wait.py\u001b[0m in \u001b[0;36muntil\u001b[1;34m(self, method, message)\u001b[0m\n\u001b[0;32m     79\u001b[0m                 \u001b[1;32mbreak\u001b[0m\u001b[1;33m\u001b[0m\u001b[1;33m\u001b[0m\u001b[0m\n\u001b[1;32m---> 80\u001b[1;33m         \u001b[1;32mraise\u001b[0m \u001b[0mTimeoutException\u001b[0m\u001b[1;33m(\u001b[0m\u001b[0mmessage\u001b[0m\u001b[1;33m,\u001b[0m \u001b[0mscreen\u001b[0m\u001b[1;33m,\u001b[0m \u001b[0mstacktrace\u001b[0m\u001b[1;33m)\u001b[0m\u001b[1;33m\u001b[0m\u001b[1;33m\u001b[0m\u001b[0m\n\u001b[0m\u001b[0;32m     81\u001b[0m \u001b[1;33m\u001b[0m\u001b[0m\n",
      "\u001b[1;31mTimeoutException\u001b[0m: Message: \n",
      "\nDuring handling of the above exception, another exception occurred:\n",
      "\u001b[1;31mElementNotInteractableException\u001b[0m           Traceback (most recent call last)",
      "\u001b[1;32m<ipython-input-263-36c7efd73e9b>\u001b[0m in \u001b[0;36m<module>\u001b[1;34m\u001b[0m\n\u001b[0;32m     46\u001b[0m                     \u001b[0mdriver\u001b[0m\u001b[1;33m.\u001b[0m\u001b[0mexecute_script\u001b[0m\u001b[1;33m(\u001b[0m\u001b[1;34m\"window.scrollTo(0, document.body.scrollHeight);\"\u001b[0m\u001b[1;33m)\u001b[0m\u001b[1;33m\u001b[0m\u001b[1;33m\u001b[0m\u001b[0m\n\u001b[1;32m---> 47\u001b[1;33m                     \u001b[0mdriver\u001b[0m\u001b[1;33m.\u001b[0m\u001b[0mfind_element_by_xpath\u001b[0m\u001b[1;33m(\u001b[0m\u001b[0msearched_elem\u001b[0m\u001b[1;33m)\u001b[0m\u001b[1;33m.\u001b[0m\u001b[0mclick\u001b[0m\u001b[1;33m(\u001b[0m\u001b[1;33m)\u001b[0m\u001b[1;33m\u001b[0m\u001b[1;33m\u001b[0m\u001b[0m\n\u001b[0m\u001b[0;32m     48\u001b[0m                 \u001b[1;32mexcept\u001b[0m \u001b[1;33m:\u001b[0m\u001b[1;33m\u001b[0m\u001b[1;33m\u001b[0m\u001b[0m\n",
      "\u001b[1;32m~\\anaconda3\\lib\\site-packages\\selenium\\webdriver\\remote\\webelement.py\u001b[0m in \u001b[0;36mclick\u001b[1;34m(self)\u001b[0m\n\u001b[0;32m     79\u001b[0m         \u001b[1;34m\"\"\"Clicks the element.\"\"\"\u001b[0m\u001b[1;33m\u001b[0m\u001b[1;33m\u001b[0m\u001b[0m\n\u001b[1;32m---> 80\u001b[1;33m         \u001b[0mself\u001b[0m\u001b[1;33m.\u001b[0m\u001b[0m_execute\u001b[0m\u001b[1;33m(\u001b[0m\u001b[0mCommand\u001b[0m\u001b[1;33m.\u001b[0m\u001b[0mCLICK_ELEMENT\u001b[0m\u001b[1;33m)\u001b[0m\u001b[1;33m\u001b[0m\u001b[1;33m\u001b[0m\u001b[0m\n\u001b[0m\u001b[0;32m     81\u001b[0m \u001b[1;33m\u001b[0m\u001b[0m\n",
      "\u001b[1;32m~\\anaconda3\\lib\\site-packages\\selenium\\webdriver\\remote\\webelement.py\u001b[0m in \u001b[0;36m_execute\u001b[1;34m(self, command, params)\u001b[0m\n\u001b[0;32m    632\u001b[0m         \u001b[0mparams\u001b[0m\u001b[1;33m[\u001b[0m\u001b[1;34m'id'\u001b[0m\u001b[1;33m]\u001b[0m \u001b[1;33m=\u001b[0m \u001b[0mself\u001b[0m\u001b[1;33m.\u001b[0m\u001b[0m_id\u001b[0m\u001b[1;33m\u001b[0m\u001b[1;33m\u001b[0m\u001b[0m\n\u001b[1;32m--> 633\u001b[1;33m         \u001b[1;32mreturn\u001b[0m \u001b[0mself\u001b[0m\u001b[1;33m.\u001b[0m\u001b[0m_parent\u001b[0m\u001b[1;33m.\u001b[0m\u001b[0mexecute\u001b[0m\u001b[1;33m(\u001b[0m\u001b[0mcommand\u001b[0m\u001b[1;33m,\u001b[0m \u001b[0mparams\u001b[0m\u001b[1;33m)\u001b[0m\u001b[1;33m\u001b[0m\u001b[1;33m\u001b[0m\u001b[0m\n\u001b[0m\u001b[0;32m    634\u001b[0m \u001b[1;33m\u001b[0m\u001b[0m\n",
      "\u001b[1;32m~\\anaconda3\\lib\\site-packages\\selenium\\webdriver\\remote\\webdriver.py\u001b[0m in \u001b[0;36mexecute\u001b[1;34m(self, driver_command, params)\u001b[0m\n\u001b[0;32m    320\u001b[0m         \u001b[1;32mif\u001b[0m \u001b[0mresponse\u001b[0m\u001b[1;33m:\u001b[0m\u001b[1;33m\u001b[0m\u001b[1;33m\u001b[0m\u001b[0m\n\u001b[1;32m--> 321\u001b[1;33m             \u001b[0mself\u001b[0m\u001b[1;33m.\u001b[0m\u001b[0merror_handler\u001b[0m\u001b[1;33m.\u001b[0m\u001b[0mcheck_response\u001b[0m\u001b[1;33m(\u001b[0m\u001b[0mresponse\u001b[0m\u001b[1;33m)\u001b[0m\u001b[1;33m\u001b[0m\u001b[1;33m\u001b[0m\u001b[0m\n\u001b[0m\u001b[0;32m    322\u001b[0m             response['value'] = self._unwrap_value(\n",
      "\u001b[1;32m~\\anaconda3\\lib\\site-packages\\selenium\\webdriver\\remote\\errorhandler.py\u001b[0m in \u001b[0;36mcheck_response\u001b[1;34m(self, response)\u001b[0m\n\u001b[0;32m    241\u001b[0m             \u001b[1;32mraise\u001b[0m \u001b[0mexception_class\u001b[0m\u001b[1;33m(\u001b[0m\u001b[0mmessage\u001b[0m\u001b[1;33m,\u001b[0m \u001b[0mscreen\u001b[0m\u001b[1;33m,\u001b[0m \u001b[0mstacktrace\u001b[0m\u001b[1;33m,\u001b[0m \u001b[0malert_text\u001b[0m\u001b[1;33m)\u001b[0m\u001b[1;33m\u001b[0m\u001b[1;33m\u001b[0m\u001b[0m\n\u001b[1;32m--> 242\u001b[1;33m         \u001b[1;32mraise\u001b[0m \u001b[0mexception_class\u001b[0m\u001b[1;33m(\u001b[0m\u001b[0mmessage\u001b[0m\u001b[1;33m,\u001b[0m \u001b[0mscreen\u001b[0m\u001b[1;33m,\u001b[0m \u001b[0mstacktrace\u001b[0m\u001b[1;33m)\u001b[0m\u001b[1;33m\u001b[0m\u001b[1;33m\u001b[0m\u001b[0m\n\u001b[0m\u001b[0;32m    243\u001b[0m \u001b[1;33m\u001b[0m\u001b[0m\n",
      "\u001b[1;31mElementNotInteractableException\u001b[0m: Message: element not interactable\n  (Session info: chrome=99.0.4844.82)\n",
      "\nDuring handling of the above exception, another exception occurred:\n",
      "\u001b[1;31mElementClickInterceptedException\u001b[0m          Traceback (most recent call last)",
      "\u001b[1;32m<ipython-input-263-36c7efd73e9b>\u001b[0m in \u001b[0;36m<module>\u001b[1;34m\u001b[0m\n\u001b[0;32m     50\u001b[0m                     \u001b[0mdriver\u001b[0m\u001b[1;33m.\u001b[0m\u001b[0mexecute_script\u001b[0m\u001b[1;33m(\u001b[0m\u001b[1;34m\"window.scrollTo(0, document.body.scrollHeight);\"\u001b[0m\u001b[1;33m)\u001b[0m\u001b[1;33m\u001b[0m\u001b[1;33m\u001b[0m\u001b[0m\n\u001b[0;32m     51\u001b[0m                     \u001b[0mWebDriverWait\u001b[0m\u001b[1;33m(\u001b[0m\u001b[0mdriver\u001b[0m\u001b[1;33m,\u001b[0m \u001b[0msleep_max\u001b[0m\u001b[1;33m)\u001b[0m\u001b[1;33m.\u001b[0m\u001b[0muntil\u001b[0m\u001b[1;33m(\u001b[0m\u001b[1;32mlambda\u001b[0m \u001b[0mdriver\u001b[0m\u001b[1;33m:\u001b[0m \u001b[0mdriver\u001b[0m\u001b[1;33m.\u001b[0m\u001b[0mfind_elements_by_xpath\u001b[0m\u001b[1;33m(\u001b[0m\u001b[0msearched_elem\u001b[0m\u001b[1;33m)\u001b[0m\u001b[1;33m)\u001b[0m\u001b[1;33m\u001b[0m\u001b[1;33m\u001b[0m\u001b[0m\n\u001b[1;32m---> 52\u001b[1;33m                     \u001b[0mdriver\u001b[0m\u001b[1;33m.\u001b[0m\u001b[0mfind_element_by_xpath\u001b[0m\u001b[1;33m(\u001b[0m\u001b[0msearched_elem\u001b[0m\u001b[1;33m)\u001b[0m\u001b[1;33m.\u001b[0m\u001b[0mclick\u001b[0m\u001b[1;33m(\u001b[0m\u001b[1;33m)\u001b[0m\u001b[1;33m\u001b[0m\u001b[1;33m\u001b[0m\u001b[0m\n\u001b[0m\u001b[0;32m     53\u001b[0m \u001b[1;33m\u001b[0m\u001b[0m\n\u001b[0;32m     54\u001b[0m             \u001b[0msearched_elem\u001b[0m \u001b[1;33m=\u001b[0m \u001b[1;34m'//*[@class=\"ico-pencil\"]'\u001b[0m\u001b[1;33m\u001b[0m\u001b[1;33m\u001b[0m\u001b[0m\n",
      "\u001b[1;32m~\\anaconda3\\lib\\site-packages\\selenium\\webdriver\\remote\\webelement.py\u001b[0m in \u001b[0;36mclick\u001b[1;34m(self)\u001b[0m\n\u001b[0;32m     78\u001b[0m     \u001b[1;32mdef\u001b[0m \u001b[0mclick\u001b[0m\u001b[1;33m(\u001b[0m\u001b[0mself\u001b[0m\u001b[1;33m)\u001b[0m\u001b[1;33m:\u001b[0m\u001b[1;33m\u001b[0m\u001b[1;33m\u001b[0m\u001b[0m\n\u001b[0;32m     79\u001b[0m         \u001b[1;34m\"\"\"Clicks the element.\"\"\"\u001b[0m\u001b[1;33m\u001b[0m\u001b[1;33m\u001b[0m\u001b[0m\n\u001b[1;32m---> 80\u001b[1;33m         \u001b[0mself\u001b[0m\u001b[1;33m.\u001b[0m\u001b[0m_execute\u001b[0m\u001b[1;33m(\u001b[0m\u001b[0mCommand\u001b[0m\u001b[1;33m.\u001b[0m\u001b[0mCLICK_ELEMENT\u001b[0m\u001b[1;33m)\u001b[0m\u001b[1;33m\u001b[0m\u001b[1;33m\u001b[0m\u001b[0m\n\u001b[0m\u001b[0;32m     81\u001b[0m \u001b[1;33m\u001b[0m\u001b[0m\n\u001b[0;32m     82\u001b[0m     \u001b[1;32mdef\u001b[0m \u001b[0msubmit\u001b[0m\u001b[1;33m(\u001b[0m\u001b[0mself\u001b[0m\u001b[1;33m)\u001b[0m\u001b[1;33m:\u001b[0m\u001b[1;33m\u001b[0m\u001b[1;33m\u001b[0m\u001b[0m\n",
      "\u001b[1;32m~\\anaconda3\\lib\\site-packages\\selenium\\webdriver\\remote\\webelement.py\u001b[0m in \u001b[0;36m_execute\u001b[1;34m(self, command, params)\u001b[0m\n\u001b[0;32m    631\u001b[0m             \u001b[0mparams\u001b[0m \u001b[1;33m=\u001b[0m \u001b[1;33m{\u001b[0m\u001b[1;33m}\u001b[0m\u001b[1;33m\u001b[0m\u001b[1;33m\u001b[0m\u001b[0m\n\u001b[0;32m    632\u001b[0m         \u001b[0mparams\u001b[0m\u001b[1;33m[\u001b[0m\u001b[1;34m'id'\u001b[0m\u001b[1;33m]\u001b[0m \u001b[1;33m=\u001b[0m \u001b[0mself\u001b[0m\u001b[1;33m.\u001b[0m\u001b[0m_id\u001b[0m\u001b[1;33m\u001b[0m\u001b[1;33m\u001b[0m\u001b[0m\n\u001b[1;32m--> 633\u001b[1;33m         \u001b[1;32mreturn\u001b[0m \u001b[0mself\u001b[0m\u001b[1;33m.\u001b[0m\u001b[0m_parent\u001b[0m\u001b[1;33m.\u001b[0m\u001b[0mexecute\u001b[0m\u001b[1;33m(\u001b[0m\u001b[0mcommand\u001b[0m\u001b[1;33m,\u001b[0m \u001b[0mparams\u001b[0m\u001b[1;33m)\u001b[0m\u001b[1;33m\u001b[0m\u001b[1;33m\u001b[0m\u001b[0m\n\u001b[0m\u001b[0;32m    634\u001b[0m \u001b[1;33m\u001b[0m\u001b[0m\n\u001b[0;32m    635\u001b[0m     \u001b[1;32mdef\u001b[0m \u001b[0mfind_element\u001b[0m\u001b[1;33m(\u001b[0m\u001b[0mself\u001b[0m\u001b[1;33m,\u001b[0m \u001b[0mby\u001b[0m\u001b[1;33m=\u001b[0m\u001b[0mBy\u001b[0m\u001b[1;33m.\u001b[0m\u001b[0mID\u001b[0m\u001b[1;33m,\u001b[0m \u001b[0mvalue\u001b[0m\u001b[1;33m=\u001b[0m\u001b[1;32mNone\u001b[0m\u001b[1;33m)\u001b[0m\u001b[1;33m:\u001b[0m\u001b[1;33m\u001b[0m\u001b[1;33m\u001b[0m\u001b[0m\n",
      "\u001b[1;32m~\\anaconda3\\lib\\site-packages\\selenium\\webdriver\\remote\\webdriver.py\u001b[0m in \u001b[0;36mexecute\u001b[1;34m(self, driver_command, params)\u001b[0m\n\u001b[0;32m    319\u001b[0m         \u001b[0mresponse\u001b[0m \u001b[1;33m=\u001b[0m \u001b[0mself\u001b[0m\u001b[1;33m.\u001b[0m\u001b[0mcommand_executor\u001b[0m\u001b[1;33m.\u001b[0m\u001b[0mexecute\u001b[0m\u001b[1;33m(\u001b[0m\u001b[0mdriver_command\u001b[0m\u001b[1;33m,\u001b[0m \u001b[0mparams\u001b[0m\u001b[1;33m)\u001b[0m\u001b[1;33m\u001b[0m\u001b[1;33m\u001b[0m\u001b[0m\n\u001b[0;32m    320\u001b[0m         \u001b[1;32mif\u001b[0m \u001b[0mresponse\u001b[0m\u001b[1;33m:\u001b[0m\u001b[1;33m\u001b[0m\u001b[1;33m\u001b[0m\u001b[0m\n\u001b[1;32m--> 321\u001b[1;33m             \u001b[0mself\u001b[0m\u001b[1;33m.\u001b[0m\u001b[0merror_handler\u001b[0m\u001b[1;33m.\u001b[0m\u001b[0mcheck_response\u001b[0m\u001b[1;33m(\u001b[0m\u001b[0mresponse\u001b[0m\u001b[1;33m)\u001b[0m\u001b[1;33m\u001b[0m\u001b[1;33m\u001b[0m\u001b[0m\n\u001b[0m\u001b[0;32m    322\u001b[0m             response['value'] = self._unwrap_value(\n\u001b[0;32m    323\u001b[0m                 response.get('value', None))\n",
      "\u001b[1;32m~\\anaconda3\\lib\\site-packages\\selenium\\webdriver\\remote\\errorhandler.py\u001b[0m in \u001b[0;36mcheck_response\u001b[1;34m(self, response)\u001b[0m\n\u001b[0;32m    240\u001b[0m                 \u001b[0malert_text\u001b[0m \u001b[1;33m=\u001b[0m \u001b[0mvalue\u001b[0m\u001b[1;33m[\u001b[0m\u001b[1;34m'alert'\u001b[0m\u001b[1;33m]\u001b[0m\u001b[1;33m.\u001b[0m\u001b[0mget\u001b[0m\u001b[1;33m(\u001b[0m\u001b[1;34m'text'\u001b[0m\u001b[1;33m)\u001b[0m\u001b[1;33m\u001b[0m\u001b[1;33m\u001b[0m\u001b[0m\n\u001b[0;32m    241\u001b[0m             \u001b[1;32mraise\u001b[0m \u001b[0mexception_class\u001b[0m\u001b[1;33m(\u001b[0m\u001b[0mmessage\u001b[0m\u001b[1;33m,\u001b[0m \u001b[0mscreen\u001b[0m\u001b[1;33m,\u001b[0m \u001b[0mstacktrace\u001b[0m\u001b[1;33m,\u001b[0m \u001b[0malert_text\u001b[0m\u001b[1;33m)\u001b[0m\u001b[1;33m\u001b[0m\u001b[1;33m\u001b[0m\u001b[0m\n\u001b[1;32m--> 242\u001b[1;33m         \u001b[1;32mraise\u001b[0m \u001b[0mexception_class\u001b[0m\u001b[1;33m(\u001b[0m\u001b[0mmessage\u001b[0m\u001b[1;33m,\u001b[0m \u001b[0mscreen\u001b[0m\u001b[1;33m,\u001b[0m \u001b[0mstacktrace\u001b[0m\u001b[1;33m)\u001b[0m\u001b[1;33m\u001b[0m\u001b[1;33m\u001b[0m\u001b[0m\n\u001b[0m\u001b[0;32m    243\u001b[0m \u001b[1;33m\u001b[0m\u001b[0m\n\u001b[0;32m    244\u001b[0m     \u001b[1;32mdef\u001b[0m \u001b[0m_value_or_default\u001b[0m\u001b[1;33m(\u001b[0m\u001b[0mself\u001b[0m\u001b[1;33m,\u001b[0m \u001b[0mobj\u001b[0m\u001b[1;33m,\u001b[0m \u001b[0mkey\u001b[0m\u001b[1;33m,\u001b[0m \u001b[0mdefault\u001b[0m\u001b[1;33m)\u001b[0m\u001b[1;33m:\u001b[0m\u001b[1;33m\u001b[0m\u001b[1;33m\u001b[0m\u001b[0m\n",
      "\u001b[1;31mElementClickInterceptedException\u001b[0m: Message: element click intercepted: Element <span class=\"btnText\">...</span> is not clickable at point (1379, 600). Other element would receive the click: <td id=\"otherInfoCheckboxes\">...</td>\n  (Session info: chrome=99.0.4844.82)\n"
     ]
    }
   ],
   "source": [
    "# try :\n",
    "for query in tqdm(queries, position=0, leave=True) :\n",
    "    if query not in done_queries or query not in done_queries :\n",
    "\n",
    "        try :\n",
    "            searched_elem = '/html/body/div[1]/div[1]/div/div[2]/div[1]/div[3]/div[1]/div[2]/div/form/div/div[1]/div/div/div[2]/div/section/div[2]/ul/li[4]/a'\n",
    "            WebDriverWait(driver, sleep_max).until(lambda driver: driver.find_elements_by_xpath(searched_elem))\n",
    "            driver.find_element_by_xpath(searched_elem).click()\n",
    "        except :\n",
    "            pass\n",
    "        searched_elem = '/html/body/div[1]/div[1]/div/div[2]/div[1]/div[3]/div[1]/div[2]/div/form/div/div[1]/div/div/div[2]/div/section/div[1]/div[1]/label'\n",
    "        WebDriverWait(driver, sleep_max).until(lambda driver: driver.find_elements_by_xpath(searched_elem))\n",
    "        driver.find_element_by_xpath(searched_elem).click()\n",
    "        searched_elem = '/html/body/div[1]/div[1]/div/div[2]/div[1]/div[3]/div[1]/div[2]/div/form/div/div[1]/div/div/div[2]/div/section/div[1]/div[1]/div'\n",
    "        WebDriverWait(driver, sleep_max).until(lambda driver: driver.find_elements_by_xpath(searched_elem))\n",
    "        driver.find_element_by_xpath(searched_elem).send_keys(query)\n",
    "        searched_elem = '/html/body/div[1]/div/div[1]/div[2]/div/div[3]/div/div[2]/div/form/div/div[1]/div/div/div[2]/div/section/div[2]/ul/li[5]/button/span[1]'\n",
    "        WebDriverWait(driver, sleep_max).until(lambda driver: driver.find_elements_by_xpath(searched_elem))\n",
    "        driver.find_element_by_xpath(searched_elem).click()\n",
    "        \n",
    "        try :\n",
    "            searched_elem = '/html/body/div/div/div[1]/div/div/div[3]/div/form/div[2]/div/header/h1'\n",
    "            WebDriverWait(driver, sleep_max).until(lambda driver: driver.find_elements_by_xpath(searched_elem))\n",
    "            driver.find_element_by_xpath(searched_elem).click()\n",
    "        except :\n",
    "            searched_elem = '/html/body/div[1]/div/div[1]/div/div/div[3]/form/div[1]/div/header/h1/span[1]'\n",
    "            WebDriverWait(driver, sleep_max).until(lambda driver: driver.find_elements_by_xpath(searched_elem))\n",
    "            nb_docs = driver.find_element_by_xpath(searched_elem).get_attribute(\"innerHTML\")\n",
    "            nb_docs = re.sub(\"[^0-9]\", \"\", nb_docs)\n",
    "            nb_docs = int(nb_docs)\n",
    "            if nb_docs > 1999 :\n",
    "                problematic_queries.append(query)\n",
    "            else :\n",
    "                searched_elem = '//*[@class=\"ico-navigate-down icon-after fontSizeNorm\"]'\n",
    "                WebDriverWait(driver, sleep_max).until(lambda driver: driver.find_elements_by_xpath(searched_elem))\n",
    "                driver.find_element_by_xpath(searched_elem).click()\n",
    "                searched_elem = '//*[@for=\"mainResults-selectAllTop\"]'\n",
    "                WebDriverWait(driver, sleep_max).until(lambda driver: driver.find_elements_by_xpath(searched_elem))\n",
    "                driver.find_element_by_xpath(searched_elem).click()\n",
    "                searched_elem = '//*[@class=\"btn-link btn-sm color arrowDownExport exportResultsPage\"]'\n",
    "                WebDriverWait(driver, sleep_max).until(lambda driver: driver.find_elements_by_xpath(searched_elem))\n",
    "                driver.find_element_by_xpath(searched_elem).click()\n",
    "                try :\n",
    "                    searched_elem = '//*[@id=\"exportTrigger\"]/span'\n",
    "                    WebDriverWait(driver, sleep_max).until(lambda driver: driver.find_elements_by_xpath(searched_elem))\n",
    "                    driver.execute_script(\"window.scrollTo(0, document.body.scrollHeight);\")\n",
    "                    driver.find_element_by_xpath(searched_elem).click()\n",
    "                except :\n",
    "                    searched_elem = '//*[@id=\"exportTrigger\"]/span'\n",
    "                    driver.execute_script(\"window.scrollTo(0, document.body.scrollHeight);\")\n",
    "                    WebDriverWait(driver, sleep_max).until(lambda driver: driver.find_elements_by_xpath(searched_elem))\n",
    "                    driver.find_element_by_xpath(searched_elem).click()\n",
    "\n",
    "            searched_elem = '//*[@class=\"ico-pencil\"]'\n",
    "            WebDriverWait(driver, sleep_max).until(lambda driver: driver.find_elements_by_xpath(searched_elem))\n",
    "            driver.find_element_by_xpath(searched_elem).click()\n",
    "            searched_elem = '/html/body/div[1]/div[1]/div/div[2]/div[1]/div[3]/div[1]/div[2]/div/form/div/div[1]/div/div/div[2]/div/section/div[2]/ul/li[4]/a'\n",
    "            WebDriverWait(driver, sleep_max).until(lambda driver: driver.find_elements_by_xpath(searched_elem))\n",
    "            driver.find_element_by_xpath(searched_elem).click()\n",
    "            done_queries.append(query)\n",
    "\n",
    "# except :\n",
    "#     winsound.Beep(700, 1000)\n"
   ]
  },
  {
   "cell_type": "code",
   "execution_count": 215,
   "id": "39f9ba13",
   "metadata": {},
   "outputs": [],
   "source": [
    "driver.execute_script(\"arguments[0].scrollIntoView();\", driver.find_element_by_xpath(searched_elem))\n"
   ]
  },
  {
   "cell_type": "code",
   "execution_count": 233,
   "id": "694ad90d",
   "metadata": {},
   "outputs": [],
   "source": [
    "searched_elem = '//*[@id=\"exportTrigger\"]/span'\n",
    "driver.execute_script(\"window.scrollTo(0, document.body.scrollHeight);\")\n",
    "driver.find_element_by_xpath(searched_elem).click()\n"
   ]
  },
  {
   "cell_type": "code",
   "execution_count": 259,
   "id": "176318a1",
   "metadata": {},
   "outputs": [],
   "source": [
    "try :\n",
    "    searched_elem = '/html/body/div[1]/div[1]/div/div[2]/div[1]/div[3]/div[1]/div[2]/div/form/div/div[1]/div/div/div[2]/div/section/div[2]/ul/li[4]/a'\n",
    "    WebDriverWait(driver, sleep_max).until(lambda driver: driver.find_elements_by_xpath(searched_elem))\n",
    "    driver.find_element_by_xpath(searched_elem).click()\n",
    "except :\n",
    "    pass\n",
    "searched_elem = '/html/body/div[1]/div[1]/div/div[2]/div[1]/div[3]/div[1]/div[2]/div/form/div/div[1]/div/div/div[2]/div/section/div[1]/div[1]/label'\n",
    "WebDriverWait(driver, sleep_max).until(lambda driver: driver.find_elements_by_xpath(searched_elem))\n",
    "driver.find_element_by_xpath(searched_elem).click()"
   ]
  }
 ],
 "metadata": {
  "kernelspec": {
   "display_name": "Python 3",
   "language": "python",
   "name": "python3"
  },
  "language_info": {
   "codemirror_mode": {
    "name": "ipython",
    "version": 3
   },
   "file_extension": ".py",
   "mimetype": "text/x-python",
   "name": "python",
   "nbconvert_exporter": "python",
   "pygments_lexer": "ipython3",
   "version": "3.8.8"
  }
 },
 "nbformat": 4,
 "nbformat_minor": 5
}
