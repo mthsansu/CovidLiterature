{
 "cells": [
  {
   "cell_type": "code",
   "execution_count": 43,
   "id": "7ad690a0",
   "metadata": {},
   "outputs": [],
   "source": [
    "from selenium import webdriver\n",
    "from selenium.webdriver.common.keys import Keys\n",
    "from selenium.webdriver.support.ui import Select\n",
    "from selenium.webdriver.common.action_chains import ActionChains\n",
    "from selenium.webdriver.chrome.options import Options\n",
    "from selenium.common.exceptions import WebDriverException, JavascriptException, \\\n",
    "NoSuchElementException, TimeoutException\n",
    "from webdriver_manager.chrome import ChromeDriverManager\n",
    "#import getpass\n",
    "import pandas as pd\n",
    "import pickle\n",
    "import os\n",
    "from selenium.webdriver.support.ui import WebDriverWait\n",
    "from selenium.webdriver.support import expected_conditions as EC\n",
    "from selenium.webdriver.common.by import By\n",
    "#from time import sleep\n",
    "import re\n",
    "import time\n",
    "from tqdm import tqdm\n",
    "import winsound\n",
    "import traceback\n"
   ]
  },
  {
   "cell_type": "code",
   "execution_count": 11,
   "id": "cdb94ec2",
   "metadata": {
    "scrolled": true
   },
   "outputs": [],
   "source": [
    "# Ouverture du driver et login a scopus\n",
    "\n",
    "identifiant = 'mchabriel'\n",
    "mot_de_passe = 'Elephant05091998'\n",
    "\n",
    "def open_scopus(id = identifiant, mdp = mot_de_passe) :\n",
    "    \n",
    "    drv = webdriver.Chrome(ChromeDriverManager().install())\n",
    "    drv.get(\"https://www.scopus.com/search/form.uri?display=advanced\")\n",
    "    drv.maximize_window()\n",
    "\n",
    "    searched_elem = '//*[@id=\"signin_link_move\"]'\n",
    "    WebDriverWait(drv, sleep_max).until(lambda drv: drv.find_elements_by_xpath(searched_elem))\n",
    "    drv.find_element_by_xpath(searched_elem).click()\n",
    "    searched_elem = '//*[@class=\"els-secondaryBtn btn-border signInInstBtn\"]'\n",
    "    WebDriverWait(drv, sleep_max).until(lambda drv: drv.find_elements_by_xpath(searched_elem))\n",
    "    drv.find_element_by_xpath(searched_elem).click()\n",
    "    searched_elem = '/html/body/div/section/main/div[2]/div[2]/div/form/div[1]/input'\n",
    "    WebDriverWait(drv, sleep_max).until(lambda drv: drv.find_elements_by_xpath(searched_elem))\n",
    "    drv.find_element_by_xpath(searched_elem).send_keys('ENSAE')\n",
    "    searched_elem = '/html/body/div/section/main/div[2]/div[2]/div/form/div[2]/div/div/form[3]/button'\n",
    "    WebDriverWait(drv, sleep_max).until(lambda drv: drv.find_elements_by_xpath(searched_elem))\n",
    "    drv.find_element_by_xpath(searched_elem).click()\n",
    "    searched_elem = '/html/body/div/section/main/form/div[4]/div[4]/button/div/div[3]'\n",
    "    WebDriverWait(drv, sleep_max).until(lambda drv: drv.find_elements_by_xpath(searched_elem))\n",
    "    drv.find_element_by_xpath(searched_elem).click()\n",
    "    searched_elem = '/html/body/div/div[2]/form/table/tbody/tr[1]/td[3]/input'\n",
    "    WebDriverWait(drv, sleep_max).until(lambda drv: drv.find_elements_by_xpath(searched_elem))\n",
    "    drv.find_element_by_xpath(searched_elem).send_keys(id)\n",
    "    searched_elem = '/html/body/div/div[2]/form/table/tbody/tr[2]/td[2]/input'\n",
    "    WebDriverWait(drv, sleep_max).until(lambda drv: drv.find_elements_by_xpath(searched_elem))\n",
    "    drv.find_element_by_xpath(searched_elem).send_keys(mdp)\n",
    "    searched_elem = '/html/body/div/div[2]/form/table/tbody/tr[3]/td[3]/button'\n",
    "    WebDriverWait(drv, sleep_max).until(lambda drv: drv.find_elements_by_xpath(searched_elem))\n",
    "    drv.find_element_by_xpath(searched_elem).click()\n",
    "    \n",
    "    return(drv)"
   ]
  },
  {
   "cell_type": "markdown",
   "id": "e6bb2661",
   "metadata": {},
   "source": [
    "# Défintion de la fonction de scraping"
   ]
  },
  {
   "cell_type": "code",
   "execution_count": 45,
   "id": "ccbef526",
   "metadata": {},
   "outputs": [],
   "source": [
    "def fonction_scraping(base_req, pth, trkr_nm) :\n",
    "    \n",
    "    os.chdir(pth)\n",
    "    sleep_max = 2\n",
    "\n",
    "    try :\n",
    "        for i in tqdm(range(0,len(base_req['req_tot'])), position=0, leave=True) :\n",
    "\n",
    "            BOOL = (base_req.loc[i, 'done'] == 0) and (base_req.loc[i, 'problematic'] == 0)\n",
    "            if BOOL :\n",
    "                query = base_req.loc[i, 'req_tot']\n",
    "\n",
    "                try :\n",
    "                    searched_elem = '/html/body/div[1]/div[1]/div/div[2]/div[1]/div[3]/div[1]/div[2]/div/form/div/div[1]/div/div/div[2]/div/section/div[2]/ul/li[4]/a'\n",
    "                    WebDriverWait(driver, sleep_max).until(lambda driver: driver.find_elements_by_xpath(searched_elem))\n",
    "                    driver.find_element_by_xpath(searched_elem).click()\n",
    "                except :\n",
    "                    pass\n",
    "                searched_elem = '/html/body/div[1]/div[1]/div/div[2]/div[1]/div[3]/div[1]/div[2]/div/form/div/div[1]/div/div/div[2]/div/section/div[1]/div[1]/label'\n",
    "                WebDriverWait(driver, sleep_max).until(lambda driver: driver.find_elements_by_xpath(searched_elem))\n",
    "                driver.find_element_by_xpath(searched_elem).click()\n",
    "                time.sleep(2)\n",
    "                searched_elem = '/html/body/div[1]/div[1]/div/div[2]/div[1]/div[3]/div[1]/div[2]/div/form/div/div[1]/div/div/div[2]/div/section/div[1]/div[1]/div'\n",
    "                WebDriverWait(driver, sleep_max).until(lambda driver: driver.find_elements_by_xpath(searched_elem))\n",
    "                driver.find_element_by_xpath(searched_elem).send_keys(query)\n",
    "                searched_elem = '/html/body/div[1]/div/div[1]/div[2]/div/div[3]/div/div[2]/div/form/div/div[1]/div/div/div[2]/div/section/div[2]/ul/li[5]/button/span[1]'\n",
    "                WebDriverWait(driver, sleep_max).until(lambda driver: driver.find_elements_by_xpath(searched_elem))\n",
    "                driver.find_element_by_xpath(searched_elem).click()\n",
    "                try :\n",
    "                    searched_elem = '/html/body/div/div/div[1]/div/div/div[3]/div/form/div[2]/div/header/h1'\n",
    "                    WebDriverWait(driver, sleep_max).until(lambda driver: driver.find_elements_by_xpath(searched_elem))\n",
    "                    driver.find_element_by_xpath(searched_elem).click()\n",
    "                except :\n",
    "                    searched_elem = '/html/body/div[1]/div/div[1]/div/div/div[3]/form/div[1]/div/header/h1/span[1]'\n",
    "                    WebDriverWait(driver, sleep_max).until(lambda driver: driver.find_elements_by_xpath(searched_elem))\n",
    "                    nb_docs = driver.find_element_by_xpath(searched_elem).get_attribute(\"innerHTML\")\n",
    "                    nb_docs = re.sub(\"[^0-9]\", \"\", nb_docs)\n",
    "                    nb_docs = int(nb_docs)\n",
    "                    if nb_docs > 1999 :\n",
    "                        print(\"Plus de 2000 articles\")\n",
    "                        base_req.loc[i, 'problematic'] = 1\n",
    "                    else :\n",
    "                        searched_elem = '//*[@class=\"ico-navigate-down icon-after fontSizeNorm\"]'\n",
    "                        WebDriverWait(driver, sleep_max).until(lambda driver: driver.find_elements_by_xpath(searched_elem))\n",
    "                        driver.find_element_by_xpath(searched_elem).click()\n",
    "                        searched_elem = '//*[@for=\"mainResults-selectAllTop\"]'\n",
    "                        WebDriverWait(driver, sleep_max).until(lambda driver: driver.find_elements_by_xpath(searched_elem))\n",
    "                        driver.find_element_by_xpath(searched_elem).click()               \n",
    "                        searched_elem = '//*[@id=\"directExport\"]'\n",
    "                        WebDriverWait(driver, sleep_max).until(lambda driver: driver.find_elements_by_xpath(searched_elem))\n",
    "                        driver.find_element_by_xpath(searched_elem).click()\n",
    "                searched_elem = '//*[@class=\"ico-pencil\"]'\n",
    "                WebDriverWait(driver, sleep_max).until(lambda driver: driver.find_elements_by_xpath(searched_elem))\n",
    "                driver.find_element_by_xpath(searched_elem).click()\n",
    "                searched_elem = '/html/body/div[1]/div[1]/div/div[2]/div[1]/div[3]/div[1]/div[2]/div/form/div/div[1]/div/div/div[2]/div/section/div[2]/ul/li[4]/a'\n",
    "                WebDriverWait(driver, sleep_max).until(lambda driver: driver.find_elements_by_xpath(searched_elem))\n",
    "                driver.find_element_by_xpath(searched_elem).click()\n",
    "                base_req.loc[i, 'done'] = 1\n",
    "            \n",
    "            base_req.to_csv(trkr_nm)\n",
    "            \n",
    "    except :\n",
    "        pass\n",
    "        \n",
    "    return(base_req)\n"
   ]
  },
  {
   "cell_type": "markdown",
   "id": "5126920f",
   "metadata": {},
   "source": [
    "# Scraping articles auteurs"
   ]
  },
  {
   "cell_type": "code",
   "execution_count": 14,
   "id": "2064f7eb",
   "metadata": {},
   "outputs": [
    {
     "name": "stderr",
     "output_type": "stream",
     "text": [
      "\n",
      "\n",
      "====== WebDriver manager ======\n",
      "Current google-chrome version is 100.0.4896\n",
      "Get LATEST driver version for 100.0.4896\n",
      "Driver [C:\\Users\\Dell\\.wdm\\drivers\\chromedriver\\win32\\100.0.4896.60\\chromedriver.exe] found in cache\n"
     ]
    }
   ],
   "source": [
    "driver = open_scopus()"
   ]
  },
  {
   "cell_type": "code",
   "execution_count": 47,
   "id": "8c0ed176",
   "metadata": {},
   "outputs": [
    {
     "name": "stderr",
     "output_type": "stream",
     "text": [
      "  0%|                                                                                          | 0/228 [00:00<?, ?it/s]\n"
     ]
    }
   ],
   "source": [
    "path = 'C:\\\\Users\\\\Dell\\\\Desktop\\\\DSSS propre\\\\Queries'\n",
    "os.chdir(path)\n",
    "base_requetes = pd.read_csv('base_requetes_auteurs.csv')\n",
    "base_requetes_1 = base_requetes[base_requetes['repartition_requetes'] == 'Maxime1']\n",
    "tracker_name = 'query_tracker_1'\n",
    "\n",
    "query_tracker = fonction_scraping(base_req = base_requetes_1, pth = path, trkr_nm = tracker_name)"
   ]
  }
 ],
 "metadata": {
  "kernelspec": {
   "display_name": "Python 3",
   "language": "python",
   "name": "python3"
  },
  "language_info": {
   "codemirror_mode": {
    "name": "ipython",
    "version": 3
   },
   "file_extension": ".py",
   "mimetype": "text/x-python",
   "name": "python",
   "nbconvert_exporter": "python",
   "pygments_lexer": "ipython3",
   "version": "3.8.8"
  }
 },
 "nbformat": 4,
 "nbformat_minor": 5
}
