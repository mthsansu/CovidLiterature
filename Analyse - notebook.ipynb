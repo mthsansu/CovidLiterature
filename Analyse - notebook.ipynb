{
  "nbformat": 4,
  "nbformat_minor": 0,
  "metadata": {
    "colab": {
      "name": "Untitled4.ipynb",
      "provenance": [],
      "authorship_tag": "ABX9TyOhgautaYCpztSLfWqfbhno",
      "include_colab_link": true
    },
    "kernelspec": {
      "name": "ir",
      "display_name": "R"
    },
    "language_info": {
      "name": "R"
    }
  },
  "cells": [
    {
      "cell_type": "markdown",
      "metadata": {
        "id": "view-in-github",
        "colab_type": "text"
      },
      "source": [
        "<a href=\"https://colab.research.google.com/github/mthsansu/CovidLiterature/blob/main/Analyse%20-%20notebook.ipynb\" target=\"_parent\"><img src=\"https://colab.research.google.com/assets/colab-badge.svg\" alt=\"Open In Colab\"/></a>"
      ]
    },
    {
      "cell_type": "markdown",
      "source": [
        "# Packages et Import de données"
      ],
      "metadata": {
        "id": "pdC4kb3yoKAA"
      }
    },
    {
      "cell_type": "code",
      "execution_count": null,
      "metadata": {
        "id": "pxCxympAWULx",
        "outputId": "d5faa141-778b-4b05-e637-7c71188d4e58",
        "colab": {
          "base_uri": "https://localhost:8080/",
          "height": 34
        }
      },
      "outputs": [
        {
          "output_type": "display_data",
          "data": {
            "text/html": [
              "2"
            ],
            "text/markdown": "2",
            "text/latex": "2",
            "text/plain": [
              "[1] 2"
            ]
          },
          "metadata": {}
        }
      ],
      "source": [
        "library(ggplot2)\n",
        "library(FactoMineR)\n",
        "library(factoextra)\n",
        "library(dplyr)\n",
        "\n",
        "\n",
        "setwd(path_data)\n",
        "data_auteurs = read.csv(\"df_auteurs_variables2.csv\")\n"
      ]
    }
  ]
}